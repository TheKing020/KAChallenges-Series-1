{
 "cells": [
  {
   "cell_type": "code",
   "execution_count": 1,
   "id": "dd2ab52c",
   "metadata": {
    "_cell_guid": "b1076dfc-b9ad-4769-8c92-a6c4dae69d19",
    "_uuid": "8f2839f25d086af736a60e9eeb907d3b93b6e0e5",
    "execution": {
     "iopub.execute_input": "2025-05-06T11:39:20.169746Z",
     "iopub.status.busy": "2025-05-06T11:39:20.169337Z",
     "iopub.status.idle": "2025-05-06T11:39:22.229633Z",
     "shell.execute_reply": "2025-05-06T11:39:22.228641Z"
    },
    "papermill": {
     "duration": 2.066098,
     "end_time": "2025-05-06T11:39:22.231348",
     "exception": false,
     "start_time": "2025-05-06T11:39:20.165250",
     "status": "completed"
    },
    "tags": []
   },
   "outputs": [],
   "source": [
    "import pandas as pd"
   ]
  },
  {
   "cell_type": "code",
   "execution_count": 2,
   "id": "1d82f5c1",
   "metadata": {
    "execution": {
     "iopub.execute_input": "2025-05-06T11:39:22.237475Z",
     "iopub.status.busy": "2025-05-06T11:39:22.237028Z",
     "iopub.status.idle": "2025-05-06T11:39:22.624639Z",
     "shell.execute_reply": "2025-05-06T11:39:22.623848Z"
    },
    "papermill": {
     "duration": 0.392263,
     "end_time": "2025-05-06T11:39:22.626270",
     "exception": false,
     "start_time": "2025-05-06T11:39:22.234007",
     "status": "completed"
    },
    "tags": []
   },
   "outputs": [],
   "source": [
    "train = pd.read_csv('/kaggle/input/math-create-reasoning/train_reasoning.csv')\n",
    "test = pd.read_csv('/kaggle/input/math-create-reasoning/test_reasoning.csv')"
   ]
  },
  {
   "cell_type": "code",
   "execution_count": 3,
   "id": "d00ec6c0",
   "metadata": {
    "execution": {
     "iopub.execute_input": "2025-05-06T11:39:22.631917Z",
     "iopub.status.busy": "2025-05-06T11:39:22.631131Z",
     "iopub.status.idle": "2025-05-06T11:39:22.673194Z",
     "shell.execute_reply": "2025-05-06T11:39:22.672230Z"
    },
    "papermill": {
     "duration": 0.04651,
     "end_time": "2025-05-06T11:39:22.674879",
     "exception": false,
     "start_time": "2025-05-06T11:39:22.628369",
     "status": "completed"
    },
    "tags": []
   },
   "outputs": [],
   "source": [
    "train['temp'] = \"[QUESTION] : \" + train['Question'] + \". [REASONING] : \" + train['Reasoning']\n",
    "test['temp'] = \"[QUESTION] : \" + test['Question'] + \". [REASONING] : \" + test['Reasoning']"
   ]
  },
  {
   "cell_type": "code",
   "execution_count": 4,
   "id": "76af6e3a",
   "metadata": {
    "execution": {
     "iopub.execute_input": "2025-05-06T11:39:22.680279Z",
     "iopub.status.busy": "2025-05-06T11:39:22.679959Z",
     "iopub.status.idle": "2025-05-06T11:39:22.707361Z",
     "shell.execute_reply": "2025-05-06T11:39:22.706546Z"
    },
    "papermill": {
     "duration": 0.032046,
     "end_time": "2025-05-06T11:39:22.709006",
     "exception": false,
     "start_time": "2025-05-06T11:39:22.676960",
     "status": "completed"
    },
    "tags": []
   },
   "outputs": [
    {
     "data": {
      "text/html": [
       "<div>\n",
       "<style scoped>\n",
       "    .dataframe tbody tr th:only-of-type {\n",
       "        vertical-align: middle;\n",
       "    }\n",
       "\n",
       "    .dataframe tbody tr th {\n",
       "        vertical-align: top;\n",
       "    }\n",
       "\n",
       "    .dataframe thead th {\n",
       "        text-align: right;\n",
       "    }\n",
       "</style>\n",
       "<table border=\"1\" class=\"dataframe\">\n",
       "  <thead>\n",
       "    <tr style=\"text-align: right;\">\n",
       "      <th></th>\n",
       "      <th>Question</th>\n",
       "      <th>label</th>\n",
       "      <th>Reasoning</th>\n",
       "      <th>temp</th>\n",
       "    </tr>\n",
       "  </thead>\n",
       "  <tbody>\n",
       "    <tr>\n",
       "      <th>0</th>\n",
       "      <td>A solitaire game is played as follows.  Six di...</td>\n",
       "      <td>3</td>\n",
       "      <td>The problem involves probability, combinatoric...</td>\n",
       "      <td>[QUESTION] : A solitaire game is played as fol...</td>\n",
       "    </tr>\n",
       "    <tr>\n",
       "      <th>1</th>\n",
       "      <td>2. The school table tennis championship was he...</td>\n",
       "      <td>5</td>\n",
       "      <td>The problem is about a table tennis championsh...</td>\n",
       "      <td>[QUESTION] : 2. The school table tennis champi...</td>\n",
       "    </tr>\n",
       "    <tr>\n",
       "      <th>2</th>\n",
       "      <td>Given that $x, y,$ and $z$ are real numbers th...</td>\n",
       "      <td>0</td>\n",
       "      <td>The problem presents a system of three equatio...</td>\n",
       "      <td>[QUESTION] : Given that $x, y,$ and $z$ are re...</td>\n",
       "    </tr>\n",
       "    <tr>\n",
       "      <th>3</th>\n",
       "      <td>$25 \\cdot 22$ Given three distinct points $P\\l...</td>\n",
       "      <td>1</td>\n",
       "      <td>The problem involves the positions of points i...</td>\n",
       "      <td>[QUESTION] : $25 \\cdot 22$ Given three distinc...</td>\n",
       "    </tr>\n",
       "    <tr>\n",
       "      <th>4</th>\n",
       "      <td>I am thinking of a five-digit number composed ...</td>\n",
       "      <td>5</td>\n",
       "      <td>The problem is about a five-digit number with ...</td>\n",
       "      <td>[QUESTION] : I am thinking of a five-digit num...</td>\n",
       "    </tr>\n",
       "    <tr>\n",
       "      <th>...</th>\n",
       "      <td>...</td>\n",
       "      <td>...</td>\n",
       "      <td>...</td>\n",
       "      <td>...</td>\n",
       "    </tr>\n",
       "    <tr>\n",
       "      <th>10184</th>\n",
       "      <td>Is there a first- or second-degree polynomial ...</td>\n",
       "      <td>0</td>\n",
       "      <td>The problem asks whether there exists a polyno...</td>\n",
       "      <td>[QUESTION] : Is there a first- or second-degre...</td>\n",
       "    </tr>\n",
       "    <tr>\n",
       "      <th>10185</th>\n",
       "      <td>4. Let the side lengths of $\\triangle A B C$ b...</td>\n",
       "      <td>1</td>\n",
       "      <td>The problem is about finding the maximum area ...</td>\n",
       "      <td>[QUESTION] : 4. Let the side lengths of $\\tria...</td>\n",
       "    </tr>\n",
       "    <tr>\n",
       "      <th>10186</th>\n",
       "      <td>A triangular array of squares has one square i...</td>\n",
       "      <td>5</td>\n",
       "      <td>The problem is about a triangular array where ...</td>\n",
       "      <td>[QUESTION] : A triangular array of squares has...</td>\n",
       "    </tr>\n",
       "    <tr>\n",
       "      <th>10187</th>\n",
       "      <td>Suppose we are given seven points that are equ...</td>\n",
       "      <td>1</td>\n",
       "      <td>The problem is about points on a circle and th...</td>\n",
       "      <td>[QUESTION] : Suppose we are given seven points...</td>\n",
       "    </tr>\n",
       "    <tr>\n",
       "      <th>10188</th>\n",
       "      <td>4. In a football tournament, only teams from S...</td>\n",
       "      <td>5</td>\n",
       "      <td>The problem involves counting the number of ga...</td>\n",
       "      <td>[QUESTION] : 4. In a football tournament, only...</td>\n",
       "    </tr>\n",
       "  </tbody>\n",
       "</table>\n",
       "<p>10189 rows × 4 columns</p>\n",
       "</div>"
      ],
      "text/plain": [
       "                                                Question  label  \\\n",
       "0      A solitaire game is played as follows.  Six di...      3   \n",
       "1      2. The school table tennis championship was he...      5   \n",
       "2      Given that $x, y,$ and $z$ are real numbers th...      0   \n",
       "3      $25 \\cdot 22$ Given three distinct points $P\\l...      1   \n",
       "4      I am thinking of a five-digit number composed ...      5   \n",
       "...                                                  ...    ...   \n",
       "10184  Is there a first- or second-degree polynomial ...      0   \n",
       "10185  4. Let the side lengths of $\\triangle A B C$ b...      1   \n",
       "10186  A triangular array of squares has one square i...      5   \n",
       "10187  Suppose we are given seven points that are equ...      1   \n",
       "10188  4. In a football tournament, only teams from S...      5   \n",
       "\n",
       "                                               Reasoning  \\\n",
       "0      The problem involves probability, combinatoric...   \n",
       "1      The problem is about a table tennis championsh...   \n",
       "2      The problem presents a system of three equatio...   \n",
       "3      The problem involves the positions of points i...   \n",
       "4      The problem is about a five-digit number with ...   \n",
       "...                                                  ...   \n",
       "10184  The problem asks whether there exists a polyno...   \n",
       "10185  The problem is about finding the maximum area ...   \n",
       "10186  The problem is about a triangular array where ...   \n",
       "10187  The problem is about points on a circle and th...   \n",
       "10188  The problem involves counting the number of ga...   \n",
       "\n",
       "                                                    temp  \n",
       "0      [QUESTION] : A solitaire game is played as fol...  \n",
       "1      [QUESTION] : 2. The school table tennis champi...  \n",
       "2      [QUESTION] : Given that $x, y,$ and $z$ are re...  \n",
       "3      [QUESTION] : $25 \\cdot 22$ Given three distinc...  \n",
       "4      [QUESTION] : I am thinking of a five-digit num...  \n",
       "...                                                  ...  \n",
       "10184  [QUESTION] : Is there a first- or second-degre...  \n",
       "10185  [QUESTION] : 4. Let the side lengths of $\\tria...  \n",
       "10186  [QUESTION] : A triangular array of squares has...  \n",
       "10187  [QUESTION] : Suppose we are given seven points...  \n",
       "10188  [QUESTION] : 4. In a football tournament, only...  \n",
       "\n",
       "[10189 rows x 4 columns]"
      ]
     },
     "execution_count": 4,
     "metadata": {},
     "output_type": "execute_result"
    }
   ],
   "source": [
    "train"
   ]
  },
  {
   "cell_type": "code",
   "execution_count": 5,
   "id": "10621352",
   "metadata": {
    "execution": {
     "iopub.execute_input": "2025-05-06T11:39:22.714757Z",
     "iopub.status.busy": "2025-05-06T11:39:22.714163Z",
     "iopub.status.idle": "2025-05-06T11:39:22.719864Z",
     "shell.execute_reply": "2025-05-06T11:39:22.718972Z"
    },
    "papermill": {
     "duration": 0.009965,
     "end_time": "2025-05-06T11:39:22.721277",
     "exception": false,
     "start_time": "2025-05-06T11:39:22.711312",
     "status": "completed"
    },
    "tags": []
   },
   "outputs": [],
   "source": [
    "train['Question'] = train['temp']\n",
    "test['Question'] = test['temp']"
   ]
  },
  {
   "cell_type": "code",
   "execution_count": 6,
   "id": "10ea35db",
   "metadata": {
    "execution": {
     "iopub.execute_input": "2025-05-06T11:39:22.727010Z",
     "iopub.status.busy": "2025-05-06T11:39:22.726734Z",
     "iopub.status.idle": "2025-05-06T11:39:23.177539Z",
     "shell.execute_reply": "2025-05-06T11:39:23.176451Z"
    },
    "papermill": {
     "duration": 0.455579,
     "end_time": "2025-05-06T11:39:23.179349",
     "exception": false,
     "start_time": "2025-05-06T11:39:22.723770",
     "status": "completed"
    },
    "tags": []
   },
   "outputs": [],
   "source": [
    "train[['Question' , \"label\"]].to_csv('train.csv' , index = False)\n",
    "test[['id' , \"Question\"]].to_csv('test.csv' , index = False)"
   ]
  }
 ],
 "metadata": {
  "kaggle": {
   "accelerator": "none",
   "dataSources": [
    {
     "sourceId": 238042086,
     "sourceType": "kernelVersion"
    }
   ],
   "dockerImageVersionId": 31012,
   "isGpuEnabled": false,
   "isInternetEnabled": true,
   "language": "python",
   "sourceType": "notebook"
  },
  "kernelspec": {
   "display_name": "Python 3",
   "language": "python",
   "name": "python3"
  },
  "language_info": {
   "codemirror_mode": {
    "name": "ipython",
    "version": 3
   },
   "file_extension": ".py",
   "mimetype": "text/x-python",
   "name": "python",
   "nbconvert_exporter": "python",
   "pygments_lexer": "ipython3",
   "version": "3.11.11"
  },
  "papermill": {
   "default_parameters": {},
   "duration": 8.819793,
   "end_time": "2025-05-06T11:39:23.701698",
   "environment_variables": {},
   "exception": null,
   "input_path": "__notebook__.ipynb",
   "output_path": "__notebook__.ipynb",
   "parameters": {},
   "start_time": "2025-05-06T11:39:14.881905",
   "version": "2.6.0"
  }
 },
 "nbformat": 4,
 "nbformat_minor": 5
}
